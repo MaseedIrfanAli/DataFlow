{
  "nbformat": 4,
  "nbformat_minor": 0,
  "metadata": {
    "colab": {
      "provenance": [],
      "authorship_tag": "ABX9TyM/njGLHvTHo67qKC7U4YOZ",
      "include_colab_link": true
    },
    "kernelspec": {
      "name": "python3",
      "display_name": "Python 3"
    },
    "language_info": {
      "name": "python"
    }
  },
  "cells": [
    {
      "cell_type": "markdown",
      "metadata": {
        "id": "view-in-github",
        "colab_type": "text"
      },
      "source": [
        "<a href=\"https://colab.research.google.com/github/MaseedIrfanAli/DataFlow/blob/main/Subscriberpythn.ipynb\" target=\"_parent\"><img src=\"https://colab.research.google.com/assets/colab-badge.svg\" alt=\"Open In Colab\"/></a>"
      ]
    },
    {
      "cell_type": "code",
      "execution_count": 2,
      "metadata": {
        "colab": {
          "base_uri": "https://localhost:8080/",
          "height": 1000
        },
        "id": "eJqZRvAbNnDp",
        "outputId": "6929e17d-52ab-4d69-f998-cffa176ea729"
      },
      "outputs": [
        {
          "output_type": "stream",
          "name": "stdout",
          "text": [
            "Recieved Message: Message {\n",
            "  data: b'39Clueless (1995)Comedy|Romance\\r\\n'\n",
            "  ordering_key: ''\n",
            "  attributes: {}\n",
            "}\n",
            "Recieved Message: Message {\n",
            "  data: b'21Get Shorty (1995)Comedy|Crime|Thriller\\r\\n'\n",
            "  ordering_key: ''\n",
            "  attributes: {}\n",
            "}\n",
            "Recieved Message: Message {\n",
            "  data: b'20Money Train (1995)Action|Comedy|Crime|Drama|Thri...'\n",
            "  ordering_key: ''\n",
            "  attributes: {}\n",
            "}\n",
            "Recieved Message: Message {\n",
            "  data: b'18Four Rooms (1995)Comedy\\r\\n'\n",
            "  ordering_key: ''\n",
            "  attributes: {}\n",
            "}\n",
            "Recieved Message: Message {\n",
            "  data: b'3Grumpier Old Men (1995)Comedy|Romance\\r\\n'\n",
            "  ordering_key: ''\n",
            "  attributes: {}\n",
            "}\n",
            "Recieved Message: Message {\n",
            "  data: b'4Waiting to Exhale (1995)Comedy|Drama|Romance\\r\\n'\n",
            "  ordering_key: ''\n",
            "  attributes: {}\n",
            "}\n",
            "Recieved Message: Message {\n",
            "  data: b'1Toy Story (1995)Adventure|Animation|Children|Come...'\n",
            "  ordering_key: ''\n",
            "  attributes: {}\n",
            "}\n",
            "Recieved Message: Message {\n",
            "  data: b'5Father of the Bride Part II (1995)Comedy\\r\\n'\n",
            "  ordering_key: ''\n",
            "  attributes: {}\n",
            "}Recieved Message: Message {\n",
            "  data: b'7Sabrina (1995)Comedy|Romance\\r\\n'\n",
            "  ordering_key: ''\n",
            "  attributes: {}\n",
            "}\n",
            "\n",
            "Recieved Message: Message {\n",
            "  data: b'12Dracula: Dead and Loving It (1995)Comedy|Horror\\r...'\n",
            "  ordering_key: ''\n",
            "  attributes: {}\n",
            "}\n",
            "Recieved Message: Message {\n",
            "  data: b'45To Die For (1995)Comedy|Drama|Thriller\\r\\n'\n",
            "  ordering_key: ''\n",
            "  attributes: {}\n",
            "}\n",
            "Recieved Message: Message {\n",
            "  data: b'19Ace Ventura: When Nature Calls (1995)Comedy\\r\\n'\n",
            "  ordering_key: ''\n",
            "  attributes: {}\n",
            "}\n",
            "Recieved Message: Message {\n",
            "  data: b'38It Takes Two (1995)Children|Comedy\\r\\n'\n",
            "  ordering_key: ''\n",
            "  attributes: {}\n",
            "}\n",
            "Recieved Message: Message {\n",
            "  data: b'52Mighty Aphrodite (1995)Comedy|Drama|Romance\\r\\n'\n",
            "  ordering_key: ''\n",
            "  attributes: {}\n",
            "}\n",
            "Recieved Message: Message {\n",
            "  data: b'56Kids of the Round Table (1995)Adventure|Children...'\n",
            "  ordering_key: ''\n",
            "  attributes: {}\n",
            "}\n",
            "Recieved Message: Message {\n",
            "  data: b\"63Don't Be a Menace to South Central While Drinkin...\"\n",
            "  ordering_key: ''\n",
            "  attributes: {}\n",
            "}\n",
            "Recieved Message: Message {\n",
            "  data: b'64Two if by Sea (1996)Comedy|Romance\\r\\n'\n",
            "  ordering_key: ''\n",
            "  attributes: {}\n",
            "}\n",
            "Recieved Message: Message {\n",
            "  data: b'65Bio-Dome (1996)Comedy\\r\\n'\n",
            "  ordering_key: ''\n",
            "  attributes: {}\n",
            "}\n",
            "Recieved Message: Message {\n",
            "  data: b'68French Twist (Gazon maudit) (1995)Comedy|Romance...'\n",
            "  ordering_key: ''\n",
            "  attributes: {}\n",
            "}\n"
          ]
        },
        {
          "output_type": "error",
          "ename": "KeyboardInterrupt",
          "evalue": "",
          "traceback": [
            "\u001b[0;31m---------------------------------------------------------------------------\u001b[0m",
            "\u001b[0;31mKeyboardInterrupt\u001b[0m                         Traceback (most recent call last)",
            "\u001b[0;32m<ipython-input-2-ca77cebed5c5>\u001b[0m in \u001b[0;36m<cell line: 17>\u001b[0;34m()\u001b[0m\n\u001b[1;32m     16\u001b[0m \u001b[0;34m\u001b[0m\u001b[0m\n\u001b[1;32m     17\u001b[0m \u001b[0;32mwhile\u001b[0m \u001b[0;32mTrue\u001b[0m\u001b[0;34m:\u001b[0m\u001b[0;34m\u001b[0m\u001b[0;34m\u001b[0m\u001b[0m\n\u001b[0;32m---> 18\u001b[0;31m   \u001b[0mtime\u001b[0m\u001b[0;34m.\u001b[0m\u001b[0msleep\u001b[0m\u001b[0;34m(\u001b[0m\u001b[0;36m5\u001b[0m\u001b[0;34m)\u001b[0m\u001b[0;34m\u001b[0m\u001b[0;34m\u001b[0m\u001b[0m\n\u001b[0m",
            "\u001b[0;31mKeyboardInterrupt\u001b[0m: "
          ]
        }
      ],
      "source": [
        "\n",
        "\n",
        "from google.cloud import pubsub_v1\n",
        "import time\n",
        "import os\n",
        "\n",
        "serviceAccount = '/content/hadoop-431116-4cf85cb9d3ff.json'\n",
        "os.environ[\"GOOGLE_APPLICATION_CREDENTIALS\"]= serviceAccount\n",
        "\n",
        "subscription_path = 'projects/hadoop-431116/subscriptions/comedy_movies-sub'\n",
        "subscriber = pubsub_v1.SubscriberClient()\n",
        "\n",
        "def callback(message):\n",
        "  print(('Recieved Message: {}'.format(message)))\n",
        "  message.ack()\n",
        "\n",
        "subscriber.subscribe(subscription_path,callback=callback)\n",
        "\n",
        "while True:\n",
        "  time.sleep(5)"
      ]
    },
    {
      "cell_type": "markdown",
      "source": [
        "# New Section"
      ],
      "metadata": {
        "id": "WruSqOTFOzw6"
      }
    }
  ]
}