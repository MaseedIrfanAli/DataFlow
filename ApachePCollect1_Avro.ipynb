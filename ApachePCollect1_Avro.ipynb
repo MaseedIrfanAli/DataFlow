{
  "nbformat": 4,
  "nbformat_minor": 0,
  "metadata": {
    "colab": {
      "provenance": [],
      "authorship_tag": "ABX9TyP70i3PezOh70KHsLpxksWM",
      "include_colab_link": true
    },
    "kernelspec": {
      "name": "python3",
      "display_name": "Python 3"
    },
    "language_info": {
      "name": "python"
    }
  },
  "cells": [
    {
      "cell_type": "markdown",
      "metadata": {
        "id": "view-in-github",
        "colab_type": "text"
      },
      "source": [
        "<a href=\"https://colab.research.google.com/github/MaseedIrfanAli/DataFlow/blob/main/ApachePCollect1_Avro.ipynb\" target=\"_parent\"><img src=\"https://colab.research.google.com/assets/colab-badge.svg\" alt=\"Open In Colab\"/></a>"
      ]
    },
    {
      "cell_type": "markdown",
      "source": [
        "WriteToAvro(file_path_prfix,Schema,codee(block),file_name_suffix,numshards,shard_name_template,mime_type,use_fastro(fastest avro file handle)\n",
        ")"
      ],
      "metadata": {
        "id": "hJH3ULIdfyWr"
      }
    },
    {
      "cell_type": "markdown",
      "source": [
        "WriteToParquet(file_path_prfix,Schema,row_group_buffer_size,record_batch_size,codec(blocksizecompression),use_deprecated_int_96_timestamp(everyelementsavewithtimestamp\n",
        "),file_name_suffix,numshards,shard_name_template,mime_type(multipurposemailextension)\n",
        "               )"
      ],
      "metadata": {
        "id": "WfmJpRPQg9VR"
      }
    },
    {
      "cell_type": "markdown",
      "source": [
        "Columner storage of parquet files;\n",
        "\n",
        "data is row formate  row1 row2 row3\n",
        "data is columner col1 col2 col3\n",
        "\n",
        "in memory data\n",
        "- - - - - - - - - - - -\n",
        "- - - - - - - - - - - -\n",
        "\n",
        "so data will fill in  left to right here\n",
        "\n",
        "Here Parquet\n",
        "\n",
        "File\n",
        "______________\n",
        "row group 0\n",
        "______________\n",
        "name column Chunk\n",
        "\n",
        "age column Chunk\n",
        "\n",
        "Grade Column Chunk\n",
        "\n",
        "______________\n",
        "row group 1\n",
        "______________\n",
        "name column Chunk\n",
        "\n",
        "age column Chunk\n",
        "\n",
        "Grade Column Chunk\n",
        "\n",
        "\n",
        "\n"
      ],
      "metadata": {
        "id": "JIksxk3QhDyi"
      }
    },
    {
      "cell_type": "code",
      "source": [
        "!pip install apache-beam"
      ],
      "metadata": {
        "colab": {
          "base_uri": "https://localhost:8080/"
        },
        "id": "BF8z3mCcsSGg",
        "outputId": "4a1a4323-62b6-4f2e-805b-4c94584a0dc4"
      },
      "execution_count": 4,
      "outputs": [
        {
          "output_type": "stream",
          "name": "stdout",
          "text": [
            "Collecting apache-beam\n",
            "  Downloading apache_beam-2.58.1-cp310-cp310-manylinux_2_17_x86_64.manylinux2014_x86_64.whl.metadata (7.5 kB)\n",
            "Collecting crcmod<2.0,>=1.7 (from apache-beam)\n",
            "  Downloading crcmod-1.7.tar.gz (89 kB)\n",
            "\u001b[2K     \u001b[90m━━━━━━━━━━━━━━━━━━━━━━━━━━━━━━━━━━━━━━━━\u001b[0m \u001b[32m89.7/89.7 kB\u001b[0m \u001b[31m2.5 MB/s\u001b[0m eta \u001b[36m0:00:00\u001b[0m\n",
            "\u001b[?25h  Preparing metadata (setup.py) ... \u001b[?25l\u001b[?25hdone\n",
            "Collecting orjson<4,>=3.9.7 (from apache-beam)\n",
            "  Downloading orjson-3.10.7-cp310-cp310-manylinux_2_17_x86_64.manylinux2014_x86_64.whl.metadata (50 kB)\n",
            "\u001b[2K     \u001b[90m━━━━━━━━━━━━━━━━━━━━━━━━━━━━━━━━━━━━━━━━\u001b[0m \u001b[32m50.4/50.4 kB\u001b[0m \u001b[31m2.8 MB/s\u001b[0m eta \u001b[36m0:00:00\u001b[0m\n",
            "\u001b[?25hCollecting dill<0.3.2,>=0.3.1.1 (from apache-beam)\n",
            "  Downloading dill-0.3.1.1.tar.gz (151 kB)\n",
            "\u001b[2K     \u001b[90m━━━━━━━━━━━━━━━━━━━━━━━━━━━━━━━━━━━━━━━━\u001b[0m \u001b[32m152.0/152.0 kB\u001b[0m \u001b[31m7.1 MB/s\u001b[0m eta \u001b[36m0:00:00\u001b[0m\n",
            "\u001b[?25h  Preparing metadata (setup.py) ... \u001b[?25l\u001b[?25hdone\n",
            "Requirement already satisfied: cloudpickle~=2.2.1 in /usr/local/lib/python3.10/dist-packages (from apache-beam) (2.2.1)\n",
            "Collecting fastavro<2,>=0.23.6 (from apache-beam)\n",
            "  Downloading fastavro-1.9.5-cp310-cp310-manylinux_2_17_x86_64.manylinux2014_x86_64.whl.metadata (5.5 kB)\n",
            "Collecting fasteners<1.0,>=0.3 (from apache-beam)\n",
            "  Downloading fasteners-0.19-py3-none-any.whl.metadata (4.9 kB)\n",
            "Requirement already satisfied: grpcio!=1.48.0,!=1.59.*,!=1.60.*,!=1.61.*,!=1.62.0,!=1.62.1,<2,>=1.33.1 in /usr/local/lib/python3.10/dist-packages (from apache-beam) (1.64.1)\n",
            "Collecting hdfs<3.0.0,>=2.1.0 (from apache-beam)\n",
            "  Downloading hdfs-2.7.3.tar.gz (43 kB)\n",
            "\u001b[2K     \u001b[90m━━━━━━━━━━━━━━━━━━━━━━━━━━━━━━━━━━━━━━━━\u001b[0m \u001b[32m43.5/43.5 kB\u001b[0m \u001b[31m2.9 MB/s\u001b[0m eta \u001b[36m0:00:00\u001b[0m\n",
            "\u001b[?25h  Preparing metadata (setup.py) ... \u001b[?25l\u001b[?25hdone\n",
            "Requirement already satisfied: httplib2<0.23.0,>=0.8 in /usr/local/lib/python3.10/dist-packages (from apache-beam) (0.22.0)\n",
            "Requirement already satisfied: jsonschema<5.0.0,>=4.0.0 in /usr/local/lib/python3.10/dist-packages (from apache-beam) (4.23.0)\n",
            "Requirement already satisfied: jsonpickle<4.0.0,>=3.0.0 in /usr/local/lib/python3.10/dist-packages (from apache-beam) (3.2.2)\n",
            "Requirement already satisfied: numpy<1.27.0,>=1.14.3 in /usr/local/lib/python3.10/dist-packages (from apache-beam) (1.26.4)\n",
            "Collecting objsize<0.8.0,>=0.6.1 (from apache-beam)\n",
            "  Downloading objsize-0.7.0-py3-none-any.whl.metadata (12 kB)\n",
            "Requirement already satisfied: packaging>=22.0 in /usr/local/lib/python3.10/dist-packages (from apache-beam) (24.1)\n",
            "Collecting pymongo<5.0.0,>=3.8.0 (from apache-beam)\n",
            "  Downloading pymongo-4.8.0-cp310-cp310-manylinux_2_17_x86_64.manylinux2014_x86_64.whl.metadata (22 kB)\n",
            "Requirement already satisfied: proto-plus<2,>=1.7.1 in /usr/local/lib/python3.10/dist-packages (from apache-beam) (1.24.0)\n",
            "Requirement already satisfied: protobuf!=4.0.*,!=4.21.*,!=4.22.0,!=4.23.*,!=4.24.*,<4.26.0,>=3.20.3 in /usr/local/lib/python3.10/dist-packages (from apache-beam) (3.20.3)\n",
            "Requirement already satisfied: pydot<2,>=1.2.0 in /usr/local/lib/python3.10/dist-packages (from apache-beam) (1.4.2)\n",
            "Requirement already satisfied: python-dateutil<3,>=2.8.0 in /usr/local/lib/python3.10/dist-packages (from apache-beam) (2.8.2)\n",
            "Requirement already satisfied: pytz>=2018.3 in /usr/local/lib/python3.10/dist-packages (from apache-beam) (2024.1)\n",
            "Collecting redis<6,>=5.0.0 (from apache-beam)\n",
            "  Downloading redis-5.0.8-py3-none-any.whl.metadata (9.2 kB)\n",
            "Requirement already satisfied: regex>=2020.6.8 in /usr/local/lib/python3.10/dist-packages (from apache-beam) (2024.5.15)\n",
            "Collecting requests!=2.32.*,<3.0.0,>=2.24.0 (from apache-beam)\n",
            "  Downloading requests-2.31.0-py3-none-any.whl.metadata (4.6 kB)\n",
            "Requirement already satisfied: typing-extensions>=3.7.0 in /usr/local/lib/python3.10/dist-packages (from apache-beam) (4.12.2)\n",
            "Collecting zstandard<1,>=0.18.0 (from apache-beam)\n",
            "  Downloading zstandard-0.23.0-cp310-cp310-manylinux_2_17_x86_64.manylinux2014_x86_64.whl.metadata (3.0 kB)\n",
            "Requirement already satisfied: pyarrow<17.0.0,>=3.0.0 in /usr/local/lib/python3.10/dist-packages (from apache-beam) (14.0.2)\n",
            "Requirement already satisfied: pyarrow-hotfix<1 in /usr/local/lib/python3.10/dist-packages (from apache-beam) (0.6)\n",
            "Collecting js2py<1,>=0.74 (from apache-beam)\n",
            "  Downloading Js2Py-0.74-py3-none-any.whl.metadata (868 bytes)\n",
            "Collecting docopt (from hdfs<3.0.0,>=2.1.0->apache-beam)\n",
            "  Downloading docopt-0.6.2.tar.gz (25 kB)\n",
            "  Preparing metadata (setup.py) ... \u001b[?25l\u001b[?25hdone\n",
            "Requirement already satisfied: six>=1.9.0 in /usr/local/lib/python3.10/dist-packages (from hdfs<3.0.0,>=2.1.0->apache-beam) (1.16.0)\n",
            "Requirement already satisfied: pyparsing!=3.0.0,!=3.0.1,!=3.0.2,!=3.0.3,<4,>=2.4.2 in /usr/local/lib/python3.10/dist-packages (from httplib2<0.23.0,>=0.8->apache-beam) (3.1.2)\n",
            "Requirement already satisfied: tzlocal>=1.2 in /usr/local/lib/python3.10/dist-packages (from js2py<1,>=0.74->apache-beam) (5.2)\n",
            "Collecting pyjsparser>=2.5.1 (from js2py<1,>=0.74->apache-beam)\n",
            "  Downloading pyjsparser-2.7.1.tar.gz (24 kB)\n",
            "  Preparing metadata (setup.py) ... \u001b[?25l\u001b[?25hdone\n",
            "Requirement already satisfied: attrs>=22.2.0 in /usr/local/lib/python3.10/dist-packages (from jsonschema<5.0.0,>=4.0.0->apache-beam) (24.2.0)\n",
            "Requirement already satisfied: jsonschema-specifications>=2023.03.6 in /usr/local/lib/python3.10/dist-packages (from jsonschema<5.0.0,>=4.0.0->apache-beam) (2023.12.1)\n",
            "Requirement already satisfied: referencing>=0.28.4 in /usr/local/lib/python3.10/dist-packages (from jsonschema<5.0.0,>=4.0.0->apache-beam) (0.35.1)\n",
            "Requirement already satisfied: rpds-py>=0.7.1 in /usr/local/lib/python3.10/dist-packages (from jsonschema<5.0.0,>=4.0.0->apache-beam) (0.20.0)\n",
            "Collecting dnspython<3.0.0,>=1.16.0 (from pymongo<5.0.0,>=3.8.0->apache-beam)\n",
            "  Downloading dnspython-2.6.1-py3-none-any.whl.metadata (5.8 kB)\n",
            "Requirement already satisfied: async-timeout>=4.0.3 in /usr/local/lib/python3.10/dist-packages (from redis<6,>=5.0.0->apache-beam) (4.0.3)\n",
            "Requirement already satisfied: charset-normalizer<4,>=2 in /usr/local/lib/python3.10/dist-packages (from requests!=2.32.*,<3.0.0,>=2.24.0->apache-beam) (3.3.2)\n",
            "Requirement already satisfied: idna<4,>=2.5 in /usr/local/lib/python3.10/dist-packages (from requests!=2.32.*,<3.0.0,>=2.24.0->apache-beam) (3.7)\n",
            "Requirement already satisfied: urllib3<3,>=1.21.1 in /usr/local/lib/python3.10/dist-packages (from requests!=2.32.*,<3.0.0,>=2.24.0->apache-beam) (2.0.7)\n",
            "Requirement already satisfied: certifi>=2017.4.17 in /usr/local/lib/python3.10/dist-packages (from requests!=2.32.*,<3.0.0,>=2.24.0->apache-beam) (2024.7.4)\n",
            "Downloading apache_beam-2.58.1-cp310-cp310-manylinux_2_17_x86_64.manylinux2014_x86_64.whl (14.6 MB)\n",
            "\u001b[2K   \u001b[90m━━━━━━━━━━━━━━━━━━━━━━━━━━━━━━━━━━━━━━━━\u001b[0m \u001b[32m14.6/14.6 MB\u001b[0m \u001b[31m57.8 MB/s\u001b[0m eta \u001b[36m0:00:00\u001b[0m\n",
            "\u001b[?25hDownloading fastavro-1.9.5-cp310-cp310-manylinux_2_17_x86_64.manylinux2014_x86_64.whl (3.1 MB)\n",
            "\u001b[2K   \u001b[90m━━━━━━━━━━━━━━━━━━━━━━━━━━━━━━━━━━━━━━━━\u001b[0m \u001b[32m3.1/3.1 MB\u001b[0m \u001b[31m47.1 MB/s\u001b[0m eta \u001b[36m0:00:00\u001b[0m\n",
            "\u001b[?25hDownloading fasteners-0.19-py3-none-any.whl (18 kB)\n",
            "Downloading Js2Py-0.74-py3-none-any.whl (1.0 MB)\n",
            "\u001b[2K   \u001b[90m━━━━━━━━━━━━━━━━━━━━━━━━━━━━━━━━━━━━━━━━\u001b[0m \u001b[32m1.0/1.0 MB\u001b[0m \u001b[31m36.9 MB/s\u001b[0m eta \u001b[36m0:00:00\u001b[0m\n",
            "\u001b[?25hDownloading objsize-0.7.0-py3-none-any.whl (11 kB)\n",
            "Downloading orjson-3.10.7-cp310-cp310-manylinux_2_17_x86_64.manylinux2014_x86_64.whl (141 kB)\n",
            "\u001b[2K   \u001b[90m━━━━━━━━━━━━━━━━━━━━━━━━━━━━━━━━━━━━━━━━\u001b[0m \u001b[32m141.9/141.9 kB\u001b[0m \u001b[31m10.8 MB/s\u001b[0m eta \u001b[36m0:00:00\u001b[0m\n",
            "\u001b[?25hDownloading pymongo-4.8.0-cp310-cp310-manylinux_2_17_x86_64.manylinux2014_x86_64.whl (1.2 MB)\n",
            "\u001b[2K   \u001b[90m━━━━━━━━━━━━━━━━━━━━━━━━━━━━━━━━━━━━━━━━\u001b[0m \u001b[32m1.2/1.2 MB\u001b[0m \u001b[31m41.5 MB/s\u001b[0m eta \u001b[36m0:00:00\u001b[0m\n",
            "\u001b[?25hDownloading redis-5.0.8-py3-none-any.whl (255 kB)\n",
            "\u001b[2K   \u001b[90m━━━━━━━━━━━━━━━━━━━━━━━━━━━━━━━━━━━━━━━━\u001b[0m \u001b[32m255.6/255.6 kB\u001b[0m \u001b[31m16.3 MB/s\u001b[0m eta \u001b[36m0:00:00\u001b[0m\n",
            "\u001b[?25hDownloading requests-2.31.0-py3-none-any.whl (62 kB)\n",
            "\u001b[2K   \u001b[90m━━━━━━━━━━━━━━━━━━━━━━━━━━━━━━━━━━━━━━━━\u001b[0m \u001b[32m62.6/62.6 kB\u001b[0m \u001b[31m4.2 MB/s\u001b[0m eta \u001b[36m0:00:00\u001b[0m\n",
            "\u001b[?25hDownloading zstandard-0.23.0-cp310-cp310-manylinux_2_17_x86_64.manylinux2014_x86_64.whl (5.4 MB)\n",
            "\u001b[2K   \u001b[90m━━━━━━━━━━━━━━━━━━━━━━━━━━━━━━━━━━━━━━━━\u001b[0m \u001b[32m5.4/5.4 MB\u001b[0m \u001b[31m57.5 MB/s\u001b[0m eta \u001b[36m0:00:00\u001b[0m\n",
            "\u001b[?25hDownloading dnspython-2.6.1-py3-none-any.whl (307 kB)\n",
            "\u001b[2K   \u001b[90m━━━━━━━━━━━━━━━━━━━━━━━━━━━━━━━━━━━━━━━━\u001b[0m \u001b[32m307.7/307.7 kB\u001b[0m \u001b[31m20.1 MB/s\u001b[0m eta \u001b[36m0:00:00\u001b[0m\n",
            "\u001b[?25hBuilding wheels for collected packages: crcmod, dill, hdfs, pyjsparser, docopt\n",
            "  Building wheel for crcmod (setup.py) ... \u001b[?25l\u001b[?25hdone\n",
            "  Created wheel for crcmod: filename=crcmod-1.7-cp310-cp310-linux_x86_64.whl size=31405 sha256=ac3e51b5a274948b4c5a190c1f20eecba4ad784d296061641bca302672c5c43d\n",
            "  Stored in directory: /root/.cache/pip/wheels/85/4c/07/72215c529bd59d67e3dac29711d7aba1b692f543c808ba9e86\n",
            "  Building wheel for dill (setup.py) ... \u001b[?25l\u001b[?25hdone\n",
            "  Created wheel for dill: filename=dill-0.3.1.1-py3-none-any.whl size=78542 sha256=6adc7df9670f6ec45b69e9f16b84c9fca9e12208e6ad4f31279a6c5929c9418b\n",
            "  Stored in directory: /root/.cache/pip/wheels/ea/e2/86/64980d90e297e7bf2ce588c2b96e818f5399c515c4bb8a7e4f\n",
            "  Building wheel for hdfs (setup.py) ... \u001b[?25l\u001b[?25hdone\n",
            "  Created wheel for hdfs: filename=hdfs-2.7.3-py3-none-any.whl size=34325 sha256=4cedd5e6063016ad33c74723363a920a2a066c6e077efb32266e071ffcf61136\n",
            "  Stored in directory: /root/.cache/pip/wheels/e5/8d/b6/99c1c0a3ac5788c866b0ecd3f48b0134a5910e6ed26011800b\n",
            "  Building wheel for pyjsparser (setup.py) ... \u001b[?25l\u001b[?25hdone\n",
            "  Created wheel for pyjsparser: filename=pyjsparser-2.7.1-py3-none-any.whl size=25983 sha256=b53d4b2bb3fc48875dcc07ed90c9d7a5cd7739041298e3f8e78d19f1cff8c577\n",
            "  Stored in directory: /root/.cache/pip/wheels/5e/81/26/5956478df303e2bf5a85a5df595bb307bd25948a4bab69f7c7\n",
            "  Building wheel for docopt (setup.py) ... \u001b[?25l\u001b[?25hdone\n",
            "  Created wheel for docopt: filename=docopt-0.6.2-py2.py3-none-any.whl size=13704 sha256=2417fff4d164317b6d53bef0645ef01f3c5102119b2742f3709fefded16b3ff7\n",
            "  Stored in directory: /root/.cache/pip/wheels/fc/ab/d4/5da2067ac95b36618c629a5f93f809425700506f72c9732fac\n",
            "Successfully built crcmod dill hdfs pyjsparser docopt\n",
            "Installing collected packages: pyjsparser, docopt, crcmod, zstandard, requests, redis, orjson, objsize, js2py, fasteners, fastavro, dnspython, dill, pymongo, hdfs, apache-beam\n",
            "  Attempting uninstall: requests\n",
            "    Found existing installation: requests 2.32.3\n",
            "    Uninstalling requests-2.32.3:\n",
            "      Successfully uninstalled requests-2.32.3\n",
            "\u001b[31mERROR: pip's dependency resolver does not currently take into account all the packages that are installed. This behaviour is the source of the following dependency conflicts.\n",
            "google-colab 1.0.0 requires requests==2.32.3, but you have requests 2.31.0 which is incompatible.\u001b[0m\u001b[31m\n",
            "\u001b[0mSuccessfully installed apache-beam-2.58.1 crcmod-1.7 dill-0.3.1.1 dnspython-2.6.1 docopt-0.6.2 fastavro-1.9.5 fasteners-0.19 hdfs-2.7.3 js2py-0.74 objsize-0.7.0 orjson-3.10.7 pyjsparser-2.7.1 pymongo-4.8.0 redis-5.0.8 requests-2.31.0 zstandard-0.23.0\n"
          ]
        }
      ]
    },
    {
      "cell_type": "code",
      "execution_count": 16,
      "metadata": {
        "colab": {
          "base_uri": "https://localhost:8080/"
        },
        "id": "zn8s4Nx_fg06",
        "outputId": "c4b5ce20-b39f-4e90-bd29-2ef55f57a81b"
      },
      "outputs": [
        {
          "output_type": "stream",
          "name": "stderr",
          "text": [
            "WARNING:apache_beam.io.filebasedsink:Deleting 1 existing files in target path matching: -*-of-%(num_shards)05d\n"
          ]
        },
        {
          "output_type": "execute_result",
          "data": {
            "text/plain": [
              "<apache_beam.runners.portability.fn_api_runner.fn_runner.RunnerResult at 0x7fda3c9e1660>"
            ]
          },
          "metadata": {},
          "execution_count": 16
        }
      ],
      "source": [
        "import apache_beam as beam\n",
        "p1 = beam.Pipeline()\n",
        "customers = (\n",
        "    p1\n",
        "    |beam.io.ReadFromText('/content/Irfan/Customer.txt')\n",
        "    |beam.Map(lambda record:record.split(','))\n",
        "    |beam.Filter(lambda record: record[2]=='New York' and int(record[3])>20)\n",
        "    |beam.io.WriteToText('/content/Irfan/result')\n",
        ")\n",
        "p1.run()\n"
      ]
    },
    {
      "cell_type": "markdown",
      "source": [],
      "metadata": {
        "id": "n8EanUvwtX21"
      }
    },
    {
      "cell_type": "code",
      "source": [
        "!cat /content/Irfan/result-00000-of-00001"
      ],
      "metadata": {
        "colab": {
          "base_uri": "https://localhost:8080/"
        },
        "id": "QxdVcrbFsqOb",
        "outputId": "34a0f8d9-11d2-41f8-dce8-7459d23c1691"
      },
      "execution_count": 17,
      "outputs": [
        {
          "output_type": "stream",
          "name": "stdout",
          "text": [
            "['1', ' John Doe', 'New York', ' 30']\n",
            "['5', ' David Brown', 'New York', ' 28']\n"
          ]
        }
      ]
    },
    {
      "cell_type": "markdown",
      "source": [
        "\"Peter Piper picked a peck of pickled peppers.\n",
        "A peck of pickled peppers Peter Piper picked.\n",
        "If Peter Piper picked a peck of pickled peppers,\n",
        "Where's the peck of pickled peppers Peter Piper picked?\""
      ],
      "metadata": {
        "id": "rhWikYcitzvx"
      }
    },
    {
      "cell_type": "code",
      "source": [
        "import apache_beam as beam\n",
        "words=['peter','piper','pickled','picked','peck','pepper']\n",
        "p1 = beam.Pipeline()\n",
        "def FindWord(element):\n",
        "  if element in words:\n",
        "    return True\n",
        "Freq = (\n",
        "    p1\n",
        "    |beam.io.ReadFromText('/content/Irfan/Peter_piper.txt')\n",
        "    |beam.FlatMap(lambda record:record.split(' '))\n",
        "    |beam.Filter(FindWord)\n",
        "    |beam.Map(lambda record: (record,1))\n",
        "    |beam.CombinePerKey(sum)\n",
        "    |beam.io.WriteToText('/content/Irfan/result')\n",
        ")\n",
        "p1.run()\n"
      ],
      "metadata": {
        "colab": {
          "base_uri": "https://localhost:8080/"
        },
        "id": "enUgkoNQt0zd",
        "outputId": "949a43b7-59e3-49d6-a89d-b739aa755b30"
      },
      "execution_count": 24,
      "outputs": [
        {
          "output_type": "stream",
          "name": "stderr",
          "text": [
            "WARNING:apache_beam.io.filebasedsink:Deleting 1 existing files in target path matching: -*-of-%(num_shards)05d\n"
          ]
        },
        {
          "output_type": "execute_result",
          "data": {
            "text/plain": [
              "<apache_beam.runners.portability.fn_api_runner.fn_runner.RunnerResult at 0x7fda2ec964d0>"
            ]
          },
          "metadata": {},
          "execution_count": 24
        }
      ]
    },
    {
      "cell_type": "code",
      "source": [
        "!cat /content/Irfan/result-00000-of-00001\n"
      ],
      "metadata": {
        "colab": {
          "base_uri": "https://localhost:8080/"
        },
        "id": "28X3FZlXt394",
        "outputId": "d6dcb844-1c68-49d3-fbb3-cc6a2382c0b3"
      },
      "execution_count": 25,
      "outputs": [
        {
          "output_type": "stream",
          "name": "stdout",
          "text": [
            "('picked', 2)\n",
            "('peck', 4)\n",
            "('pickled', 4)\n"
          ]
        }
      ]
    },
    {
      "cell_type": "markdown",
      "source": [
        "CoGroupByKey\n",
        "pcol1 pcol2\n",
        "jhon,2   jhon,988982\n",
        "\n",
        "output:pcol1+pcol2=(jhon,{[2],[988982]})"
      ],
      "metadata": {
        "id": "MlK1DCAHyWoI"
      }
    },
    {
      "cell_type": "code",
      "source": [
        "import apache_beam as beam\n",
        "\n",
        "p = beam.Pipeline()\n",
        "movie_name = [\n",
        "    (1, 'SpiderMan'),\n",
        "    (2, 'Avenger'),\n",
        "    (3, 'Titanic'),\n",
        "    (4, 'Green Miles'),\n",
        "]\n",
        "movies_rating = [\n",
        "    (1, 3.5),\n",
        "    (2, 4),\n",
        "    (1,4.5),\n",
        "    (3,3.5),\n",
        "    (2,4.5)\n",
        "]\n",
        "\n",
        "name = p | 'Create Name Pcolletion' >> beam.Create(movie_name)\n",
        "rating = p | 'Create Rating Pcolletion' >> beam.Create(movies_rating)\n",
        "\n",
        "joinedResult = ({'movie_name' : name, 'movie_rating':rating} | beam.CoGroupByKey()) | beam.Map(print)\n",
        "\n",
        "p.run()\n",
        ""
      ],
      "metadata": {
        "colab": {
          "base_uri": "https://localhost:8080/"
        },
        "id": "Ht47S4621aZS",
        "outputId": "d154bac0-ed3b-4e51-e6eb-ac425a3bddd6"
      },
      "execution_count": 29,
      "outputs": [
        {
          "output_type": "stream",
          "name": "stdout",
          "text": [
            "(1, {'movie_name': ['SpiderMan'], 'movie_rating': [3.5, 4.5]})\n",
            "(2, {'movie_name': ['Avenger'], 'movie_rating': [4, 4.5]})\n",
            "(3, {'movie_name': ['Titanic'], 'movie_rating': [3.5]})\n",
            "(4, {'movie_name': ['Green Miles'], 'movie_rating': []})\n"
          ]
        },
        {
          "output_type": "execute_result",
          "data": {
            "text/plain": [
              "<apache_beam.runners.portability.fn_api_runner.fn_runner.RunnerResult at 0x7fda2eabfcd0>"
            ]
          },
          "metadata": {},
          "execution_count": 29
        }
      ]
    },
    {
      "cell_type": "markdown",
      "source": [
        "Partition"
      ],
      "metadata": {
        "id": "vL1OOYwi3U11"
      }
    },
    {
      "cell_type": "code",
      "source": [
        "import apache_beam as beam\n",
        "p1=beam.Pipeline()\n",
        "\n",
        "number={1,2,3,4,5,6,7,8,9,10}\n",
        "def partition_fn(element,num_partitions):\n",
        "  return 0 if element%2==0 else 1\n",
        "\n",
        "num_pc=(\n",
        "    p1\n",
        "    |beam.Create(number)\n",
        "    |beam.Partition(partition_fn,2)\n",
        "    )\n",
        "num_pc[0]|\"Prining first partition\" >> beam.Map(print)\n",
        "\n",
        "p1.run()"
      ],
      "metadata": {
        "colab": {
          "base_uri": "https://localhost:8080/"
        },
        "id": "wjl7_V9v260U",
        "outputId": "d819acab-46f7-4bd6-d760-c3338f258bf6"
      },
      "execution_count": 30,
      "outputs": [
        {
          "output_type": "stream",
          "name": "stdout",
          "text": [
            "2\n",
            "4\n",
            "6\n",
            "8\n",
            "10\n"
          ]
        },
        {
          "output_type": "execute_result",
          "data": {
            "text/plain": [
              "<apache_beam.runners.portability.fn_api_runner.fn_runner.RunnerResult at 0x7fda3ca96950>"
            ]
          },
          "metadata": {},
          "execution_count": 30
        }
      ]
    },
    {
      "cell_type": "code",
      "source": [
        "import apache_beam as beam\n",
        "p1=beam.Pipeline()\n",
        "\n",
        "number={1,2,3,4,5,6,7,8,9,10}\n",
        "def partition_fn(element,num_partitions):\n",
        "  return 0 if element%2==0 else 1\n",
        "\n",
        "num_pc=(\n",
        "    p1\n",
        "    |beam.Create(number)\n",
        "    |beam.Partition(partition_fn,2)\n",
        "    )\n",
        "num_pc[1]|\"Prining first partition\" >> beam.Map(print)\n",
        "\n",
        "p1.run()"
      ],
      "metadata": {
        "colab": {
          "base_uri": "https://localhost:8080/"
        },
        "id": "ant-E4aT4SGA",
        "outputId": "e821e51b-a1dc-4413-ce51-6b2335a08ab5"
      },
      "execution_count": 31,
      "outputs": [
        {
          "output_type": "stream",
          "name": "stdout",
          "text": [
            "1\n",
            "3\n",
            "5\n",
            "7\n",
            "9\n"
          ]
        },
        {
          "output_type": "execute_result",
          "data": {
            "text/plain": [
              "<apache_beam.runners.portability.fn_api_runner.fn_runner.RunnerResult at 0x7fda2ea1ba60>"
            ]
          },
          "metadata": {},
          "execution_count": 31
        }
      ]
    },
    {
      "cell_type": "markdown",
      "source": [
        "Flatten transformation(Union)\n",
        "wanted to combine all"
      ],
      "metadata": {
        "id": "FVOwDt6E4Y0N"
      }
    },
    {
      "cell_type": "code",
      "source": [
        "# -*- coding: utf-8 -*-\n",
        "\"\"\"Lecture12_Flatten.ipynb\n",
        "\n",
        "Automatically generated by Colaboratory.\n",
        "\n",
        "Original file is located at\n",
        "    https://colab.research.google.com/drive/1ZSp_mz8UC7fmSqKSL8qGAp7-QlfKFXLy\n",
        "\"\"\"\n",
        "\n",
        "\n",
        "\n",
        "import apache_beam as beam\n",
        "\n",
        "p = beam.Pipeline()\n",
        "\n",
        "even = {2,4,6,8}\n",
        "odd = {1,3,5,7,9}\n",
        "name = ('John','Jim','Mary')\n",
        "\n",
        "even_pc = p | 'Create Pcollection from Even number' >> beam.Create(even)\n",
        "odd_pc = p | 'Create Pcollection from Odd Number' >> beam.Create(odd)\n",
        "name_pc = p | 'Create Pcollection from Name' >> beam.Create(name)\n",
        "\n",
        "result = ((even_pc,odd_pc,name_pc) | beam.Flatten()) | beam.Map(print)\n",
        "p.run()"
      ],
      "metadata": {
        "colab": {
          "base_uri": "https://localhost:8080/"
        },
        "id": "GVvkQafi4fi3",
        "outputId": "85215999-0295-4b8a-eae4-cb07d52a2bd2"
      },
      "execution_count": 33,
      "outputs": [
        {
          "output_type": "stream",
          "name": "stdout",
          "text": [
            "John\n",
            "Jim\n",
            "Mary\n",
            "8\n",
            "2\n",
            "4\n",
            "6\n",
            "1\n",
            "3\n",
            "5\n",
            "7\n",
            "9\n"
          ]
        },
        {
          "output_type": "execute_result",
          "data": {
            "text/plain": [
              "<apache_beam.runners.portability.fn_api_runner.fn_runner.RunnerResult at 0x7fda3e4f3340>"
            ]
          },
          "metadata": {},
          "execution_count": 33
        }
      ]
    },
    {
      "cell_type": "markdown",
      "source": [
        "Composite Transformation:\n",
        "why to existing metheds to one method"
      ],
      "metadata": {
        "id": "CTUlQEAB42Ue"
      }
    },
    {
      "cell_type": "code",
      "source": [
        "\n",
        "\n",
        "import apache_beam as beam\n",
        "p1 = beam.Pipeline()\n",
        "\n",
        "class MyTransform(beam.PTransform):\n",
        "  def expand(self, input_col):\n",
        "    a = (\n",
        "        input_col\n",
        "                   | 'Calculate Sum' >> beam.Map(CalculateSum)\n",
        "                   | 'Apply Formatting' >> beam.Map(FormatText)\n",
        "    )\n",
        "    return a\n",
        "\n",
        "def SplitRow(input_element):\n",
        "  return input_element.split(',')\n",
        "\n",
        "def FilterBasedonCountry(countryName,input_element):\n",
        "  return input_element[1]==countryName\n",
        "\n",
        "def CalculateSum(elem):\n",
        "  return elem[0],(int(elem[2])+int(elem[3])+int(elem[4]))\n",
        "\n",
        "def FormatText(elem):\n",
        "  return elem[0]+' has recieved '+str(elem[1]) +' marks'\n",
        "\n",
        "input_collection = (\n",
        "    p1\n",
        "    |beam.io.ReadFromText('/content/Irfan/Student_marks.txt')\n",
        "    |beam.Map(SplitRow)\n",
        "  )\n",
        "\n",
        "US_pipeline = (\n",
        "   input_collection\n",
        "   | beam.Filter(lambda record: FilterBasedonCountry('US',record))\n",
        "   | \"Composite Transformation for US\" >> MyTransform()\n",
        "   | 'Writing results to US File' >> beam.io.WriteToText('/content/Irfan/US_Result')\n",
        ")\n",
        "\n",
        "India_pipeline = (\n",
        "   input_collection\n",
        "   | beam.Filter(lambda record: FilterBasedonCountry('IN',record))\n",
        "   | \"Composite Transformation for IN\" >> MyTransform()\n",
        "   |'Writing results to India File' >> beam.io.WriteToText('/content/Irfan/IN_Result')\n",
        ")\n",
        "\n",
        "\n",
        "p1.run()\n",
        "\n",
        "! cat US_Result-00000-of-00001\n",
        "\n",
        "! cat IN_Result-00000-of-00001"
      ],
      "metadata": {
        "colab": {
          "base_uri": "https://localhost:8080/"
        },
        "id": "51z8ehGm41pc",
        "outputId": "86572864-3798-4dc9-ff94-9ac1272639dd"
      },
      "execution_count": 66,
      "outputs": [
        {
          "output_type": "stream",
          "name": "stderr",
          "text": [
            "WARNING:apache_beam.io.filebasedsink:No shards found to finalize. num_shards: 1, skipped: 1\n",
            "WARNING:apache_beam.io.filebasedsink:No shards found to finalize. num_shards: 1, skipped: 1\n"
          ]
        },
        {
          "output_type": "stream",
          "name": "stdout",
          "text": [
            "cat: US_Result-00000-of-00001: No such file or directory\n",
            "cat: IN_Result-00000-of-00001: No such file or directory\n"
          ]
        }
      ]
    },
    {
      "cell_type": "markdown",
      "source": [],
      "metadata": {
        "id": "zAivnczRAIWl"
      }
    },
    {
      "cell_type": "code",
      "source": [
        "!cat /content/Irfan/US_Result-00000-of-00001"
      ],
      "metadata": {
        "id": "SXvKcNeL_lDb"
      },
      "execution_count": 69,
      "outputs": []
    },
    {
      "cell_type": "markdown",
      "source": [],
      "metadata": {
        "id": "lh181ZMkCwt_"
      }
    }
  ]
}